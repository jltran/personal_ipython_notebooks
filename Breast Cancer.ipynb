{
 "cells": [
  {
   "cell_type": "code",
   "execution_count": 1,
   "metadata": {
    "collapsed": false
   },
   "outputs": [],
   "source": [
    "import numpy as np\n",
    "import pandas as pd\n",
    "import matplotlib.pyplot as plt\n",
    "%matplotlib inline"
   ]
  },
  {
   "cell_type": "code",
   "execution_count": 2,
   "metadata": {
    "collapsed": false
   },
   "outputs": [
    {
     "data": {
      "text/html": [
       "<div>\n",
       "<table border=\"1\" class=\"dataframe\">\n",
       "  <thead>\n",
       "    <tr style=\"text-align: right;\">\n",
       "      <th></th>\n",
       "      <th>clump_thickness</th>\n",
       "      <th>uniformity_size</th>\n",
       "      <th>uniformity_shape</th>\n",
       "      <th>marginal_adhesion</th>\n",
       "      <th>epithelial_cell_size</th>\n",
       "      <th>bare_nuclei</th>\n",
       "      <th>bland_chromatin</th>\n",
       "      <th>normal_nucleoli</th>\n",
       "      <th>mitoses</th>\n",
       "      <th>class</th>\n",
       "    </tr>\n",
       "    <tr>\n",
       "      <th>id</th>\n",
       "      <th></th>\n",
       "      <th></th>\n",
       "      <th></th>\n",
       "      <th></th>\n",
       "      <th></th>\n",
       "      <th></th>\n",
       "      <th></th>\n",
       "      <th></th>\n",
       "      <th></th>\n",
       "      <th></th>\n",
       "    </tr>\n",
       "  </thead>\n",
       "  <tbody>\n",
       "    <tr>\n",
       "      <th>776715</th>\n",
       "      <td>3</td>\n",
       "      <td>1</td>\n",
       "      <td>1</td>\n",
       "      <td>1</td>\n",
       "      <td>3</td>\n",
       "      <td>2</td>\n",
       "      <td>1</td>\n",
       "      <td>1</td>\n",
       "      <td>1</td>\n",
       "      <td>2</td>\n",
       "    </tr>\n",
       "    <tr>\n",
       "      <th>841769</th>\n",
       "      <td>2</td>\n",
       "      <td>1</td>\n",
       "      <td>1</td>\n",
       "      <td>1</td>\n",
       "      <td>2</td>\n",
       "      <td>1</td>\n",
       "      <td>1</td>\n",
       "      <td>1</td>\n",
       "      <td>1</td>\n",
       "      <td>2</td>\n",
       "    </tr>\n",
       "    <tr>\n",
       "      <th>888820</th>\n",
       "      <td>5</td>\n",
       "      <td>10</td>\n",
       "      <td>10</td>\n",
       "      <td>3</td>\n",
       "      <td>7</td>\n",
       "      <td>3</td>\n",
       "      <td>8</td>\n",
       "      <td>10</td>\n",
       "      <td>2</td>\n",
       "      <td>4</td>\n",
       "    </tr>\n",
       "    <tr>\n",
       "      <th>897471</th>\n",
       "      <td>4</td>\n",
       "      <td>8</td>\n",
       "      <td>6</td>\n",
       "      <td>4</td>\n",
       "      <td>3</td>\n",
       "      <td>4</td>\n",
       "      <td>10</td>\n",
       "      <td>6</td>\n",
       "      <td>1</td>\n",
       "      <td>4</td>\n",
       "    </tr>\n",
       "    <tr>\n",
       "      <th>897471</th>\n",
       "      <td>4</td>\n",
       "      <td>8</td>\n",
       "      <td>8</td>\n",
       "      <td>5</td>\n",
       "      <td>4</td>\n",
       "      <td>5</td>\n",
       "      <td>10</td>\n",
       "      <td>4</td>\n",
       "      <td>1</td>\n",
       "      <td>4</td>\n",
       "    </tr>\n",
       "  </tbody>\n",
       "</table>\n",
       "</div>"
      ],
      "text/plain": [
       "         clump_thickness   uniformity_size   uniformity_shape  \\\n",
       "id                                                              \n",
       "776715                 3                 1                  1   \n",
       "841769                 2                 1                  1   \n",
       "888820                 5                10                 10   \n",
       "897471                 4                 8                  6   \n",
       "897471                 4                 8                  8   \n",
       "\n",
       "         marginal_adhesion   epithelial_cell_size   bare_nuclei  \\\n",
       "id                                                                \n",
       "776715                   1                      3             2   \n",
       "841769                   1                      2             1   \n",
       "888820                   3                      7             3   \n",
       "897471                   4                      3             4   \n",
       "897471                   5                      4             5   \n",
       "\n",
       "         bland_chromatin   normal_nucleoli   mitoses   class  \n",
       "id                                                            \n",
       "776715                 1                 1         1       2  \n",
       "841769                 1                 1         1       2  \n",
       "888820                 8                10         2       4  \n",
       "897471                10                 6         1       4  \n",
       "897471                10                 4         1       4  "
      ]
     },
     "execution_count": 2,
     "metadata": {},
     "output_type": "execute_result"
    }
   ],
   "source": [
    "data = pd.read_csv('data/logit/bcancer.csv', index_col = 0, na_values='?')\n",
    "data.tail()"
   ]
  },
  {
   "cell_type": "code",
   "execution_count": 3,
   "metadata": {
    "collapsed": false
   },
   "outputs": [
    {
     "name": "stdout",
     "output_type": "stream",
     "text": [
      "699\n",
      "699\n",
      "699\n",
      "699\n",
      "699\n",
      "683\n",
      "699\n",
      "699\n",
      "699\n",
      "699\n",
      "(683, 10)\n"
     ]
    }
   ],
   "source": [
    "#check for n/a\n",
    "for attr in data.columns:\n",
    "    print np.sum(data[attr].notnull())\n",
    "#There are missing values in bare_nuclei column\n",
    "\n",
    "#Drop na\n",
    "data.dropna(axis=0, inplace=True)\n",
    "print data.shape"
   ]
  },
  {
   "cell_type": "code",
   "execution_count": 4,
   "metadata": {
    "collapsed": false
   },
   "outputs": [],
   "source": [
    "X = data[data.columns[:-1]]\n",
    "y = data[data.columns[-1]]"
   ]
  },
  {
   "cell_type": "code",
   "execution_count": 5,
   "metadata": {
    "collapsed": false
   },
   "outputs": [],
   "source": [
    "#Normalize\n",
    "X = (X - X.mean())/X.std()\n",
    "y = y/2 - 1 #For whatever reason, results is stored as 4 for malignant, 2 for benign. Now 1 = malignant, 0 = benign"
   ]
  },
  {
   "cell_type": "code",
   "execution_count": 6,
   "metadata": {
    "collapsed": false
   },
   "outputs": [],
   "source": [
    "#Split into training and test data\n",
    "mask = np.random.randn(data.shape[0]) < 0.8\n",
    "X_train = X[mask]\n",
    "y_train = y[mask]\n",
    "\n",
    "X_test = X[~mask]\n",
    "y_test = y[~mask]"
   ]
  },
  {
   "cell_type": "code",
   "execution_count": 7,
   "metadata": {
    "collapsed": false
   },
   "outputs": [],
   "source": [
    "def logistic_regression(X, y, iters=500):\n",
    "    if len(X.shape) > 1:\n",
    "        thetas = np.zeros(X.shape[1])\n",
    "    else:\n",
    "        thetas = np.zeros(1)\n",
    "    alpha = 0.01\n",
    "    Js =[]\n",
    "    \n",
    "    for i in xrange(iters):\n",
    "        #Grab hypothesis\n",
    "        if len(X.shape) > 1:\n",
    "            h = g(X.dot(thetas))\n",
    "        else:\n",
    "            h = g(X*thetas)\n",
    "        #Compute Js\n",
    "        #J = -1 * np.sum(y*np.log(h) + (1-y)*np.log(1 - g(h))) / y.shape[0]\n",
    "        #Js.append(J)\n",
    "        #Update thetas\n",
    "        thetas = thetas + alpha * (y - h).dot(X)\n",
    "        \n",
    "    _x = np.arange(iters)    \n",
    "    #plt.plot(_x, Js)\n",
    "    \n",
    "    return thetas    \n",
    "    \n",
    "#Helper Functions\n",
    "def g(Z):\n",
    "    #Run logistic function on Z array\n",
    "    return 1. / (1 + np.exp(-Z))\n",
    "\n",
    "#Call\n",
    "thetas = logistic_regression(X_train,y_train)"
   ]
  },
  {
   "cell_type": "code",
   "execution_count": 8,
   "metadata": {
    "collapsed": false
   },
   "outputs": [
    {
     "name": "stdout",
     "output_type": "stream",
     "text": [
      "0.961038961039\n",
      "prediction rate seems pretty good\n"
     ]
    }
   ],
   "source": [
    "#Test\n",
    "pred = g(X_test.dot(thetas)) >= 0.5\n",
    "print np.sum(pred == y_test)/float(pred.shape[0])\n",
    "print 'prediction rate seems pretty good'"
   ]
  },
  {
   "cell_type": "code",
   "execution_count": 9,
   "metadata": {
    "collapsed": false
   },
   "outputs": [
    {
     "name": "stdout",
     "output_type": "stream",
     "text": [
      "0.948051948052\n"
     ]
    }
   ],
   "source": [
    "from sklearn.linear_model import LogisticRegression\n",
    "clf = LogisticRegression()\n",
    "clf.fit(X_train, y_train)\n",
    "_pred = clf.predict(X_test)\n",
    "compare = pd.DataFrame({'prediction': _pred, 'true': y_test})\n",
    "print clf.score(X_test, y_test)"
   ]
  },
  {
   "cell_type": "code",
   "execution_count": 10,
   "metadata": {
    "collapsed": false
   },
   "outputs": [
    {
     "name": "stdout",
     "output_type": "stream",
     "text": [
      "         clump_thickness  uniformity_size  uniformity_shape  \\\n",
      "id                                                            \n",
      "1002945             True             True              True   \n",
      "1016277             True             True              True   \n",
      "1017122             True             True              True   \n",
      "1018561            False            False             False   \n",
      "1036172            False            False             False   \n",
      "\n",
      "         marginal_adhesion  epithelial_cell_size  bare_nuclei  \\\n",
      "id                                                              \n",
      "1002945               True                  True         True   \n",
      "1016277              False                 False         True   \n",
      "1017122               True                  True         True   \n",
      "1018561              False                 False        False   \n",
      "1036172              False                 False        False   \n",
      "\n",
      "         bland_chromatin  normal_nucleoli  mitoses logistic_regression  \n",
      "id                                                                      \n",
      "1002945            False            False    False                True  \n",
      "1016277            False             True    False                True  \n",
      "1017122             True             True    False                True  \n",
      "1018561            False            False    False               False  \n",
      "1036172            False            False    False               False  \n"
     ]
    }
   ],
   "source": [
    "df = pd.DataFrame({})\n",
    "#Get predictors by attr\n",
    "for attr in data.columns[:-1]:\n",
    "    _t = logistic_regression(X_train[attr], y_train)\n",
    "    df[attr] = g(X_test[attr] * _t) >= 0.5\n",
    "\n",
    "df['logistic_regression'] = pred\n",
    "    \n",
    "print df.head()"
   ]
  },
  {
   "cell_type": "code",
   "execution_count": 11,
   "metadata": {
    "collapsed": false
   },
   "outputs": [
    {
     "ename": "NameError",
     "evalue": "name 'lamb' is not defined",
     "output_type": "error",
     "traceback": [
      "\u001b[0;31m---------------------------------------------------------------------------\u001b[0m",
      "\u001b[0;31mNameError\u001b[0m                                 Traceback (most recent call last)",
      "\u001b[0;32m<ipython-input-11-6d96befa8420>\u001b[0m in \u001b[0;36m<module>\u001b[0;34m()\u001b[0m\n\u001b[1;32m      3\u001b[0m \u001b[0;34m\u001b[0m\u001b[0m\n\u001b[1;32m      4\u001b[0m \u001b[0mdf\u001b[0m\u001b[0;34m[\u001b[0m\u001b[0;34m'actual_y'\u001b[0m\u001b[0;34m]\u001b[0m \u001b[0;34m=\u001b[0m \u001b[0my_test\u001b[0m\u001b[0;34m\u001b[0m\u001b[0m\n\u001b[0;32m----> 5\u001b[0;31m \u001b[0mdf\u001b[0m\u001b[0;34m.\u001b[0m\u001b[0mcolumns\u001b[0m \u001b[0;34m=\u001b[0m \u001b[0mdf\u001b[0m\u001b[0;34m.\u001b[0m\u001b[0mcolumns\u001b[0m\u001b[0;34m.\u001b[0m\u001b[0mmap\u001b[0m\u001b[0;34m(\u001b[0m\u001b[0mlamb\u001b[0m\u001b[0;34m)\u001b[0m\u001b[0;34m\u001b[0m\u001b[0m\n\u001b[0m\u001b[1;32m      6\u001b[0m \u001b[0;34m\u001b[0m\u001b[0m\n\u001b[1;32m      7\u001b[0m \u001b[0;32mprint\u001b[0m \u001b[0mdf\u001b[0m\u001b[0;34m.\u001b[0m\u001b[0mhead\u001b[0m\u001b[0;34m(\u001b[0m\u001b[0;34m)\u001b[0m\u001b[0;34m\u001b[0m\u001b[0m\n",
      "\u001b[0;31mNameError\u001b[0m: name 'lamb' is not defined"
     ]
    }
   ],
   "source": [
    "for attr in data.columns[:-1]:\n",
    "    df[attr + '_n'] = data[attr][~mask]\n",
    "\n",
    "df['actual_y'] = y_test\n",
    "df.columns = df.columns.map(lamb)\n",
    "    \n",
    "print df.head()"
   ]
  },
  {
   "cell_type": "code",
   "execution_count": null,
   "metadata": {
    "collapsed": true
   },
   "outputs": [],
   "source": []
  }
 ],
 "metadata": {
  "kernelspec": {
   "display_name": "Python 2",
   "language": "python",
   "name": "python2"
  },
  "language_info": {
   "codemirror_mode": {
    "name": "ipython",
    "version": 2
   },
   "file_extension": ".py",
   "mimetype": "text/x-python",
   "name": "python",
   "nbconvert_exporter": "python",
   "pygments_lexer": "ipython2",
   "version": "2.7.10"
  }
 },
 "nbformat": 4,
 "nbformat_minor": 0
}
